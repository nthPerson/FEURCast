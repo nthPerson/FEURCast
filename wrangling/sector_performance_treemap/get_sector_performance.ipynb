{
 "cells": [
  {
   "cell_type": "markdown",
   "id": "c9b5ffa3",
   "metadata": {},
   "source": [
    "# Collect sector performance data collection for heatmap / treemap"
   ]
  },
  {
   "cell_type": "markdown",
   "id": "bf1c8767",
   "metadata": {},
   "source": [
    "## Option 1: Simple version (use sector ETFs)\n",
    "This approach will need to be confirmed by domain expert (Fernando!)."
   ]
  },
  {
   "cell_type": "code",
   "execution_count": 1,
   "id": "48e91871",
   "metadata": {},
   "outputs": [
    {
     "name": "stderr",
     "output_type": "stream",
     "text": [
      "/tmp/ipykernel_371998/544581655.py:23: FutureWarning: Series.__getitem__ treating keys as positions is deprecated. In a future version, integer keys will always be treated as labels (consistent with DataFrame behavior). To access a value by position, use `ser.iloc[pos]`\n",
      "  pct_change = (hist['Close'][-1] - hist['Close'][-2]) / hist['Close'][-2] * 100\n",
      "/tmp/ipykernel_371998/544581655.py:23: FutureWarning: Series.__getitem__ treating keys as positions is deprecated. In a future version, integer keys will always be treated as labels (consistent with DataFrame behavior). To access a value by position, use `ser.iloc[pos]`\n",
      "  pct_change = (hist['Close'][-1] - hist['Close'][-2]) / hist['Close'][-2] * 100\n",
      "/tmp/ipykernel_371998/544581655.py:23: FutureWarning: Series.__getitem__ treating keys as positions is deprecated. In a future version, integer keys will always be treated as labels (consistent with DataFrame behavior). To access a value by position, use `ser.iloc[pos]`\n",
      "  pct_change = (hist['Close'][-1] - hist['Close'][-2]) / hist['Close'][-2] * 100\n",
      "/tmp/ipykernel_371998/544581655.py:23: FutureWarning: Series.__getitem__ treating keys as positions is deprecated. In a future version, integer keys will always be treated as labels (consistent with DataFrame behavior). To access a value by position, use `ser.iloc[pos]`\n",
      "  pct_change = (hist['Close'][-1] - hist['Close'][-2]) / hist['Close'][-2] * 100\n",
      "/tmp/ipykernel_371998/544581655.py:23: FutureWarning: Series.__getitem__ treating keys as positions is deprecated. In a future version, integer keys will always be treated as labels (consistent with DataFrame behavior). To access a value by position, use `ser.iloc[pos]`\n",
      "  pct_change = (hist['Close'][-1] - hist['Close'][-2]) / hist['Close'][-2] * 100\n",
      "/tmp/ipykernel_371998/544581655.py:23: FutureWarning: Series.__getitem__ treating keys as positions is deprecated. In a future version, integer keys will always be treated as labels (consistent with DataFrame behavior). To access a value by position, use `ser.iloc[pos]`\n",
      "  pct_change = (hist['Close'][-1] - hist['Close'][-2]) / hist['Close'][-2] * 100\n",
      "/tmp/ipykernel_371998/544581655.py:23: FutureWarning: Series.__getitem__ treating keys as positions is deprecated. In a future version, integer keys will always be treated as labels (consistent with DataFrame behavior). To access a value by position, use `ser.iloc[pos]`\n",
      "  pct_change = (hist['Close'][-1] - hist['Close'][-2]) / hist['Close'][-2] * 100\n",
      "/tmp/ipykernel_371998/544581655.py:23: FutureWarning: Series.__getitem__ treating keys as positions is deprecated. In a future version, integer keys will always be treated as labels (consistent with DataFrame behavior). To access a value by position, use `ser.iloc[pos]`\n",
      "  pct_change = (hist['Close'][-1] - hist['Close'][-2]) / hist['Close'][-2] * 100\n",
      "/tmp/ipykernel_371998/544581655.py:23: FutureWarning: Series.__getitem__ treating keys as positions is deprecated. In a future version, integer keys will always be treated as labels (consistent with DataFrame behavior). To access a value by position, use `ser.iloc[pos]`\n",
      "  pct_change = (hist['Close'][-1] - hist['Close'][-2]) / hist['Close'][-2] * 100\n",
      "/tmp/ipykernel_371998/544581655.py:23: FutureWarning: Series.__getitem__ treating keys as positions is deprecated. In a future version, integer keys will always be treated as labels (consistent with DataFrame behavior). To access a value by position, use `ser.iloc[pos]`\n",
      "  pct_change = (hist['Close'][-1] - hist['Close'][-2]) / hist['Close'][-2] * 100\n",
      "/tmp/ipykernel_371998/544581655.py:23: FutureWarning: Series.__getitem__ treating keys as positions is deprecated. In a future version, integer keys will always be treated as labels (consistent with DataFrame behavior). To access a value by position, use `ser.iloc[pos]`\n",
      "  pct_change = (hist['Close'][-1] - hist['Close'][-2]) / hist['Close'][-2] * 100\n"
     ]
    },
    {
     "name": "stdout",
     "output_type": "stream",
     "text": [
      "                    Sector Ticker  1D Change (%)    MarketCap\n",
      "0               Technology    XLK       2.564741  90249887744\n",
      "1               Financials    XLF       1.226993  54020546560\n",
      "2              Health Care    XLV       0.302653  34014875648\n",
      "3   Consumer Discretionary    XLY       2.360653  24614813696\n",
      "4         Consumer Staples    XLP      -0.326501  16102211584\n",
      "5              Industrials    XLI       1.367580  23864965120\n",
      "6                   Energy    XLE       1.419853  26926057472\n",
      "7                Materials    XLB       2.009214   5462010368\n",
      "8              Real Estate   XLRE       0.626846   7893178368\n",
      "9   Communication Services    XLC       1.130314  27143948288\n",
      "10               Utilities    XLU       1.103107  21288992768\n"
     ]
    }
   ],
   "source": [
    "import yfinance as yf\n",
    "import pandas as pd\n",
    "\n",
    "# SPDR Sector ETFs\n",
    "sectors = {\n",
    "    \"XLK\": \"Technology\",\n",
    "    \"XLF\": \"Financials\",\n",
    "    \"XLV\": \"Health Care\",\n",
    "    \"XLY\": \"Consumer Discretionary\",\n",
    "    \"XLP\": \"Consumer Staples\",\n",
    "    \"XLI\": \"Industrials\",\n",
    "    \"XLE\": \"Energy\",\n",
    "    \"XLB\": \"Materials\",\n",
    "    \"XLRE\": \"Real Estate\",\n",
    "    \"XLC\": \"Communication Services\",\n",
    "    \"XLU\": \"Utilities\"\n",
    "}\n",
    "\n",
    "data = []\n",
    "for ticker, sector in sectors.items():\n",
    "    t = yf.Ticker(ticker)\n",
    "    hist = t.history(period=\"5d\", interval=\"1d\")\n",
    "    pct_change = (hist['Close'][-1] - hist['Close'][-2]) / hist['Close'][-2] * 100\n",
    "    mcap = t.info.get(\"totalAssets\") or t.info.get(\"marketCap\")  # AUM in $\n",
    "    data.append({\"Sector\": sector, \"Ticker\": ticker, \"1D Change (%)\": pct_change, \"MarketCap\": mcap})\n",
    "\n",
    "df_heatmap = pd.DataFrame(data)\n",
    "print(df_heatmap)\n"
   ]
  },
  {
   "cell_type": "markdown",
   "id": "5696eab2",
   "metadata": {},
   "source": [
    "## Option 2: More granular (aggregate from SPLG constituents)\n",
    "If we want true SPLG-weighted sector performance:\n",
    "\n",
    "1. Pull SPLG holdings (see below).\n",
    "\n",
    "2. For each company, fetch the last close and previous close.\n",
    "\n",
    "3. Compute daily % change × company weight.\n",
    "\n",
    "4. Group by sector to get weighted sector return.\n",
    "\n",
    "This requires more API calls (and might hit rate limits), so we could possibly use it later as an enhancement."
   ]
  },
  {
   "cell_type": "code",
   "execution_count": 2,
   "id": "84a5ae26",
   "metadata": {},
   "outputs": [
    {
     "data": {
      "text/plain": [
       "' Did not implement this approach. Will verify with domain expert and team if this level of granularity is necessary. '"
      ]
     },
     "execution_count": 2,
     "metadata": {},
     "output_type": "execute_result"
    }
   ],
   "source": [
    "\"\"\" Did not implement this approach. Will verify with domain expert and team if this level of granularity is necessary. \"\"\""
   ]
  }
 ],
 "metadata": {
  "kernelspec": {
   "display_name": "feurcast-env",
   "language": "python",
   "name": "python3"
  },
  "language_info": {
   "codemirror_mode": {
    "name": "ipython",
    "version": 3
   },
   "file_extension": ".py",
   "mimetype": "text/x-python",
   "name": "python",
   "nbconvert_exporter": "python",
   "pygments_lexer": "ipython3",
   "version": "3.11.13"
  }
 },
 "nbformat": 4,
 "nbformat_minor": 5
}
