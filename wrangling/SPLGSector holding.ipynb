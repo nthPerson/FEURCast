{
 "cells": [
  {
   "cell_type": "code",
   "execution_count": null,
   "id": "5f9bb58b-6f03-4fbd-8411-503d5ac887a7",
   "metadata": {},
   "outputs": [
    {
     "name": "stdout",
     "output_type": "stream",
     "text": [
      "Found 0 fact sheets\n"
     ]
    }
   ],
   "source": [
    "# Jupyter Notebook Cell 2\n",
    "import requests\n",
    "from bs4 import BeautifulSoup\n",
    "import tabula\n",
    "import pandas as pd\n",
    "import os\n",
    "\n",
    "# Create folders to store PDFs\n",
    "os.makedirs(\"SPLG_fact_sheets\", exist_ok=True)\n",
    "\n",
    "# -----------------------------\n",
    "# 1️⃣ Get list of SPLG fact sheets from SPDR site\n",
    "# -----------------------------\n",
    "url = \"https://www.ssga.com/us/en/individual/etfs/funds/spdr-portfolio-s-p-500-etf-splg#literature\"\n",
    "\n",
    "headers = {\"User-Agent\": \"Mozilla/5.0\"}\n",
    "response = requests.get(url, headers=headers)\n",
    "soup = BeautifulSoup(response.text, \"html.parser\")\n",
    "\n",
    "# Find all PDF links\n",
    "pdf_links = []\n",
    "for a in soup.find_all(\"a\", href=True):\n",
    "    href = a['href']\n",
    "    if href.lower().endswith(\".pdf\") and \"Fact Sheet\" in a.text:\n",
    "        pdf_links.append(href if href.startswith(\"http\") else \"https://www.ssga.com\" + href)\n",
    "\n",
    "print(f\"Found {len(pdf_links)} fact sheets\")\n"
   ]
  },
  {
   "cell_type": "code",
   "execution_count": null,
   "id": "d343f59a-de6c-482f-95ec-86fb72feffbc",
   "metadata": {},
   "outputs": [
    {
     "name": "stdout",
     "output_type": "stream",
     "text": [
      "Downloaded all PDFs\n"
     ]
    }
   ],
   "source": [
    "# Jupyter Notebook Cell 3\n",
    "# -----------------------------\n",
    "# 2️⃣ Download PDFs\n",
    "# -----------------------------\n",
    "for link in pdf_links:\n",
    "    filename = os.path.join(\"SPLG_fact_sheets\", link.split(\"/\")[-1])\n",
    "    if not os.path.exists(filename):\n",
    "        r = requests.get(link)\n",
    "        with open(filename, \"wb\") as f:\n",
    "            f.write(r.content)\n",
    "print(\"Downloaded all PDFs\")\n"
   ]
  },
  {
   "cell_type": "code",
   "execution_count": null,
   "id": "6f59ed3d-2809-47e1-bfa9-4e71b64285fd",
   "metadata": {},
   "outputs": [
    {
     "name": "stdout",
     "output_type": "stream",
     "text": [
      "Saved combined holdings and sector data to SPLG_holdings_sectors_5yr.xlsx\n"
     ]
    }
   ],
   "source": [
    "# Jupyter Notebook Cell 4\n",
    "# -----------------------------\n",
    "# 3️⃣ Extract holdings & sectors from PDFs\n",
    "# -----------------------------\n",
    "pdf_files = os.listdir(\"SPLG_fact_sheets\")\n",
    "all_holdings = []\n",
    "all_sectors = []\n",
    "\n",
    "for pdf in pdf_files:\n",
    "    pdf_path = os.path.join(\"SPLG_fact_sheets\", pdf)\n",
    "    try:\n",
    "        tables = tabula.read_pdf(pdf_path, pages='all', multiple_tables=True)\n",
    "        for table in tables:\n",
    "            cols = [c.lower() for c in table.columns]\n",
    "            \n",
    "            # Top Holdings Table\n",
    "            if 'ticker' in cols or 'symbol' in cols:\n",
    "                table['Source_Date'] = pdf.split('_')[-1].replace('.pdf','')\n",
    "                all_holdings.append(table)\n",
    "            \n",
    "            # Sector Allocation Table\n",
    "            if 'sector' in cols or 'sector name' in cols:\n",
    "                table['Source_Date'] = pdf.split('_')[-1].replace('.pdf','')\n",
    "                all_sectors.append(table)\n",
    "    except:\n",
    "        print(f\"Failed to read {pdf}\")\n",
    "\n",
    "# Combine dataframes\n",
    "holdings_df = pd.concat(all_holdings, ignore_index=True) if all_holdings else pd.DataFrame()\n",
    "sectors_df = pd.concat(all_sectors, ignore_index=True) if all_sectors else pd.DataFrame()\n",
    "\n",
    "# Save to Excel\n",
    "with pd.ExcelWriter('SPLG_holdings_sectors_5yr.xlsx') as writer:\n",
    "    holdings_df.to_excel(writer, sheet_name='Top Holdings', index=False)\n",
    "    sectors_df.to_excel(writer, sheet_name='Sector Allocation', index=False)\n",
    "\n",
    "print(\"Saved combined holdings and sector data to SPLG_holdings_sectors_5yr.xlsx\")\n"
   ]
  },
  {
   "cell_type": "code",
   "execution_count": null,
   "id": "f5275d74-ab4d-4b17-a1e2-6c3bf5cfe18f",
   "metadata": {},
   "outputs": [],
   "source": []
  }
 ],
 "metadata": {
  "kernelspec": {
   "display_name": "Python 3 (ipykernel)",
   "language": "python",
   "name": "python3"
  },
  "language_info": {
   "codemirror_mode": {
    "name": "ipython",
    "version": 3
   },
   "file_extension": ".py",
   "mimetype": "text/x-python",
   "name": "python",
   "nbconvert_exporter": "python",
   "pygments_lexer": "ipython3",
   "version": "3.13.5"
  }
 },
 "nbformat": 4,
 "nbformat_minor": 5
}
